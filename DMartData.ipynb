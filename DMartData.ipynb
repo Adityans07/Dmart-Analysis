{
 "cells": [
  {
   "cell_type": "code",
   "execution_count": 3,
   "id": "8a4c28b0",
   "metadata": {},
   "outputs": [],
   "source": [
    "import pandas as pd\n",
    "import numpy as np\n",
    "import matplotlib.pyplot as plt\n",
    "import seaborn as sns"
   ]
  },
  {
   "cell_type": "code",
   "execution_count": 4,
   "id": "92fa2ec8",
   "metadata": {},
   "outputs": [
    {
     "data": {
      "text/html": [
       "<div>\n",
       "<style scoped>\n",
       "    .dataframe tbody tr th:only-of-type {\n",
       "        vertical-align: middle;\n",
       "    }\n",
       "\n",
       "    .dataframe tbody tr th {\n",
       "        vertical-align: top;\n",
       "    }\n",
       "\n",
       "    .dataframe thead th {\n",
       "        text-align: right;\n",
       "    }\n",
       "</style>\n",
       "<table border=\"1\" class=\"dataframe\">\n",
       "  <thead>\n",
       "    <tr style=\"text-align: right;\">\n",
       "      <th></th>\n",
       "      <th>Name</th>\n",
       "      <th>Brand</th>\n",
       "      <th>Price</th>\n",
       "      <th>DiscountedPrice</th>\n",
       "      <th>Category</th>\n",
       "      <th>SubCategory</th>\n",
       "      <th>Quantity</th>\n",
       "      <th>Description</th>\n",
       "      <th>BreadCrumbs</th>\n",
       "    </tr>\n",
       "  </thead>\n",
       "  <tbody>\n",
       "    <tr>\n",
       "      <th>0</th>\n",
       "      <td>Premia Badam (Almonds)</td>\n",
       "      <td>Premia</td>\n",
       "      <td>451.0</td>\n",
       "      <td>329.0</td>\n",
       "      <td>Grocery</td>\n",
       "      <td>Grocery/Dry Fruits</td>\n",
       "      <td>500 gm</td>\n",
       "      <td>India</td>\n",
       "      <td>Grocery &gt; Grocery/Dry Fruits</td>\n",
       "    </tr>\n",
       "    <tr>\n",
       "      <th>1</th>\n",
       "      <td>Premia Badam (Almonds)</td>\n",
       "      <td>Premia</td>\n",
       "      <td>109.0</td>\n",
       "      <td>85.0</td>\n",
       "      <td>Grocery</td>\n",
       "      <td>Grocery/Dry Fruits</td>\n",
       "      <td>100 gm</td>\n",
       "      <td>India</td>\n",
       "      <td>Grocery &gt; Grocery/Dry Fruits</td>\n",
       "    </tr>\n",
       "    <tr>\n",
       "      <th>2</th>\n",
       "      <td>Premia Badam (Almonds)</td>\n",
       "      <td>Premia</td>\n",
       "      <td>202.0</td>\n",
       "      <td>175.0</td>\n",
       "      <td>Grocery</td>\n",
       "      <td>Grocery/Dry Fruits</td>\n",
       "      <td>200 gm</td>\n",
       "      <td>India</td>\n",
       "      <td>Grocery &gt; Grocery/Dry Fruits</td>\n",
       "    </tr>\n",
       "    <tr>\n",
       "      <th>3</th>\n",
       "      <td>Nutraj California Almonds (Badam)</td>\n",
       "      <td>Nutraj</td>\n",
       "      <td>599.0</td>\n",
       "      <td>349.0</td>\n",
       "      <td>Grocery</td>\n",
       "      <td>Dry Fruits</td>\n",
       "      <td>500 gm</td>\n",
       "      <td>USA</td>\n",
       "      <td>Grocery &gt; Dry Fruits</td>\n",
       "    </tr>\n",
       "    <tr>\n",
       "      <th>4</th>\n",
       "      <td>Nutraj California Almonds (Badam)</td>\n",
       "      <td>Nutraj</td>\n",
       "      <td>1549.0</td>\n",
       "      <td>659.0</td>\n",
       "      <td>Grocery</td>\n",
       "      <td>Dry Fruits</td>\n",
       "      <td>1 kg</td>\n",
       "      <td>USA</td>\n",
       "      <td>Grocery &gt; Dry Fruits</td>\n",
       "    </tr>\n",
       "  </tbody>\n",
       "</table>\n",
       "</div>"
      ],
      "text/plain": [
       "                                Name   Brand   Price  DiscountedPrice  \\\n",
       "0             Premia Badam (Almonds)  Premia   451.0            329.0   \n",
       "1             Premia Badam (Almonds)  Premia   109.0             85.0   \n",
       "2             Premia Badam (Almonds)  Premia   202.0            175.0   \n",
       "3  Nutraj California Almonds (Badam)  Nutraj   599.0            349.0   \n",
       "4  Nutraj California Almonds (Badam)  Nutraj  1549.0            659.0   \n",
       "\n",
       "  Category         SubCategory Quantity Description  \\\n",
       "0  Grocery  Grocery/Dry Fruits   500 gm       India   \n",
       "1  Grocery  Grocery/Dry Fruits   100 gm       India   \n",
       "2  Grocery  Grocery/Dry Fruits   200 gm       India   \n",
       "3  Grocery          Dry Fruits   500 gm         USA   \n",
       "4  Grocery          Dry Fruits     1 kg         USA   \n",
       "\n",
       "                    BreadCrumbs  \n",
       "0  Grocery > Grocery/Dry Fruits  \n",
       "1  Grocery > Grocery/Dry Fruits  \n",
       "2  Grocery > Grocery/Dry Fruits  \n",
       "3          Grocery > Dry Fruits  \n",
       "4          Grocery > Dry Fruits  "
      ]
     },
     "execution_count": 4,
     "metadata": {},
     "output_type": "execute_result"
    }
   ],
   "source": [
    "data = pd.read_csv(\"DMart.csv\")\n",
    "data.head()"
   ]
  },
  {
   "cell_type": "code",
   "execution_count": 5,
   "id": "eaaee6cc",
   "metadata": {},
   "outputs": [
    {
     "data": {
      "text/html": [
       "<div>\n",
       "<style scoped>\n",
       "    .dataframe tbody tr th:only-of-type {\n",
       "        vertical-align: middle;\n",
       "    }\n",
       "\n",
       "    .dataframe tbody tr th {\n",
       "        vertical-align: top;\n",
       "    }\n",
       "\n",
       "    .dataframe thead th {\n",
       "        text-align: right;\n",
       "    }\n",
       "</style>\n",
       "<table border=\"1\" class=\"dataframe\">\n",
       "  <thead>\n",
       "    <tr style=\"text-align: right;\">\n",
       "      <th></th>\n",
       "      <th>Name</th>\n",
       "      <th>Brand</th>\n",
       "      <th>Price</th>\n",
       "      <th>DiscountedPrice</th>\n",
       "      <th>Category</th>\n",
       "      <th>SubCategory</th>\n",
       "      <th>Quantity</th>\n",
       "      <th>Description</th>\n",
       "      <th>BreadCrumbs</th>\n",
       "    </tr>\n",
       "  </thead>\n",
       "  <tbody>\n",
       "    <tr>\n",
       "      <th>5184</th>\n",
       "      <td>Navneet Youva A4 Notebook - Assorted</td>\n",
       "      <td>Navneet</td>\n",
       "      <td>55.0</td>\n",
       "      <td>36.0</td>\n",
       "      <td>School Supplies</td>\n",
       "      <td>School Needs</td>\n",
       "      <td>1 Book</td>\n",
       "      <td>OverviewEach book has an index page with label...</td>\n",
       "      <td>School Supplies &gt; School Needs</td>\n",
       "    </tr>\n",
       "    <tr>\n",
       "      <th>5185</th>\n",
       "      <td>Navneet Youva Longbook Journal - Assorted</td>\n",
       "      <td>Navneet</td>\n",
       "      <td>85.0</td>\n",
       "      <td>69.0</td>\n",
       "      <td>School Supplies</td>\n",
       "      <td>School Needs</td>\n",
       "      <td>1 Book</td>\n",
       "      <td>OverviewStrong &amp; sturdy case binding. Easy to ...</td>\n",
       "      <td>School Supplies &gt; School Needs</td>\n",
       "    </tr>\n",
       "    <tr>\n",
       "      <th>5186</th>\n",
       "      <td>Navneet Youva Long Notebook - Assorted</td>\n",
       "      <td>Navneet</td>\n",
       "      <td>55.0</td>\n",
       "      <td>40.0</td>\n",
       "      <td>School Supplies</td>\n",
       "      <td>School Needs</td>\n",
       "      <td>1 Book</td>\n",
       "      <td>OverviewAttractive colour and designs. Easy to...</td>\n",
       "      <td>School Supplies &gt; School Needs</td>\n",
       "    </tr>\n",
       "    <tr>\n",
       "      <th>5187</th>\n",
       "      <td>Navneet Youva Drawing Book - Assorted</td>\n",
       "      <td>Navneet</td>\n",
       "      <td>110.0</td>\n",
       "      <td>72.0</td>\n",
       "      <td>School Supplies</td>\n",
       "      <td>School Needs</td>\n",
       "      <td>1 Book</td>\n",
       "      <td>OverviewDrawing book has attractive cover desi...</td>\n",
       "      <td>School Supplies &gt; School Needs</td>\n",
       "    </tr>\n",
       "    <tr>\n",
       "      <th>5188</th>\n",
       "      <td>Navneet Youva Canvas Board (10x12 Inches)</td>\n",
       "      <td>Navneet</td>\n",
       "      <td>90.0</td>\n",
       "      <td>75.0</td>\n",
       "      <td>School Supplies</td>\n",
       "      <td>School Needs</td>\n",
       "      <td>1 U</td>\n",
       "      <td>OverviewCoated with a double layer of acrylic ...</td>\n",
       "      <td>School Supplies &gt; School Needs</td>\n",
       "    </tr>\n",
       "  </tbody>\n",
       "</table>\n",
       "</div>"
      ],
      "text/plain": [
       "                                           Name    Brand  Price  \\\n",
       "5184       Navneet Youva A4 Notebook - Assorted  Navneet   55.0   \n",
       "5185  Navneet Youva Longbook Journal - Assorted  Navneet   85.0   \n",
       "5186     Navneet Youva Long Notebook - Assorted  Navneet   55.0   \n",
       "5187      Navneet Youva Drawing Book - Assorted  Navneet  110.0   \n",
       "5188  Navneet Youva Canvas Board (10x12 Inches)  Navneet   90.0   \n",
       "\n",
       "      DiscountedPrice         Category   SubCategory Quantity  \\\n",
       "5184             36.0  School Supplies  School Needs   1 Book   \n",
       "5185             69.0  School Supplies  School Needs   1 Book   \n",
       "5186             40.0  School Supplies  School Needs   1 Book   \n",
       "5187             72.0  School Supplies  School Needs   1 Book   \n",
       "5188             75.0  School Supplies  School Needs      1 U   \n",
       "\n",
       "                                            Description  \\\n",
       "5184  OverviewEach book has an index page with label...   \n",
       "5185  OverviewStrong & sturdy case binding. Easy to ...   \n",
       "5186  OverviewAttractive colour and designs. Easy to...   \n",
       "5187  OverviewDrawing book has attractive cover desi...   \n",
       "5188  OverviewCoated with a double layer of acrylic ...   \n",
       "\n",
       "                         BreadCrumbs  \n",
       "5184  School Supplies > School Needs  \n",
       "5185  School Supplies > School Needs  \n",
       "5186  School Supplies > School Needs  \n",
       "5187  School Supplies > School Needs  \n",
       "5188  School Supplies > School Needs  "
      ]
     },
     "execution_count": 5,
     "metadata": {},
     "output_type": "execute_result"
    }
   ],
   "source": [
    "data.tail()"
   ]
  },
  {
   "cell_type": "markdown",
   "id": "a753a2ef",
   "metadata": {},
   "source": [
    "### What is the number of rows and columns in our data?"
   ]
  },
  {
   "cell_type": "code",
   "execution_count": 6,
   "id": "a438fb3f",
   "metadata": {},
   "outputs": [
    {
     "data": {
      "text/plain": [
       "(5189, 9)"
      ]
     },
     "execution_count": 6,
     "metadata": {},
     "output_type": "execute_result"
    }
   ],
   "source": [
    "# getting number of rows and columns in our data\n",
    "data.shape"
   ]
  },
  {
   "cell_type": "markdown",
   "id": "8c349258",
   "metadata": {},
   "source": [
    "### Hence, we can see that there are 5189 rows and 9 columns."
   ]
  },
  {
   "cell_type": "markdown",
   "id": "29416b3f",
   "metadata": {},
   "source": [
    "### What's the name of the columns in our data and how many not null values they have, and what is the data type of each column?"
   ]
  },
  {
   "cell_type": "code",
   "execution_count": 7,
   "id": "eabe1dc1",
   "metadata": {},
   "outputs": [
    {
     "name": "stdout",
     "output_type": "stream",
     "text": [
      "<class 'pandas.core.frame.DataFrame'>\n",
      "RangeIndex: 5189 entries, 0 to 5188\n",
      "Data columns (total 9 columns):\n",
      " #   Column           Non-Null Count  Dtype  \n",
      "---  ------           --------------  -----  \n",
      " 0   Name             5188 non-null   object \n",
      " 1   Brand            4789 non-null   object \n",
      " 2   Price            5188 non-null   float64\n",
      " 3   DiscountedPrice  5188 non-null   float64\n",
      " 4   Category         5186 non-null   object \n",
      " 5   SubCategory      5186 non-null   object \n",
      " 6   Quantity         5188 non-null   object \n",
      " 7   Description      5187 non-null   object \n",
      " 8   BreadCrumbs      5186 non-null   object \n",
      "dtypes: float64(2), object(7)\n",
      "memory usage: 365.0+ KB\n"
     ]
    }
   ],
   "source": [
    "# Getting data about columns, like what kind of data type it can holds and non-null value count.\n",
    "data.info()"
   ]
  },
  {
   "cell_type": "markdown",
   "id": "a7d7efe6",
   "metadata": {},
   "source": [
    "### we can clearly see that there are 9 columns and two of them contains float data type and rest columns contains object data type"
   ]
  },
  {
   "cell_type": "markdown",
   "id": "82064a7a",
   "metadata": {},
   "source": [
    "### What is the mathematical description of columns having float data type?"
   ]
  },
  {
   "cell_type": "code",
   "execution_count": 8,
   "id": "00145154",
   "metadata": {},
   "outputs": [
    {
     "data": {
      "text/html": [
       "<div>\n",
       "<style scoped>\n",
       "    .dataframe tbody tr th:only-of-type {\n",
       "        vertical-align: middle;\n",
       "    }\n",
       "\n",
       "    .dataframe tbody tr th {\n",
       "        vertical-align: top;\n",
       "    }\n",
       "\n",
       "    .dataframe thead th {\n",
       "        text-align: right;\n",
       "    }\n",
       "</style>\n",
       "<table border=\"1\" class=\"dataframe\">\n",
       "  <thead>\n",
       "    <tr style=\"text-align: right;\">\n",
       "      <th></th>\n",
       "      <th>Price</th>\n",
       "      <th>DiscountedPrice</th>\n",
       "    </tr>\n",
       "  </thead>\n",
       "  <tbody>\n",
       "    <tr>\n",
       "      <th>count</th>\n",
       "      <td>5188.000000</td>\n",
       "      <td>5188.000000</td>\n",
       "    </tr>\n",
       "    <tr>\n",
       "      <th>mean</th>\n",
       "      <td>344.030360</td>\n",
       "      <td>236.669719</td>\n",
       "    </tr>\n",
       "    <tr>\n",
       "      <th>std</th>\n",
       "      <td>601.034092</td>\n",
       "      <td>387.198716</td>\n",
       "    </tr>\n",
       "    <tr>\n",
       "      <th>min</th>\n",
       "      <td>0.000000</td>\n",
       "      <td>0.000000</td>\n",
       "    </tr>\n",
       "    <tr>\n",
       "      <th>25%</th>\n",
       "      <td>85.000000</td>\n",
       "      <td>64.000000</td>\n",
       "    </tr>\n",
       "    <tr>\n",
       "      <th>50%</th>\n",
       "      <td>175.000000</td>\n",
       "      <td>125.000000</td>\n",
       "    </tr>\n",
       "    <tr>\n",
       "      <th>75%</th>\n",
       "      <td>345.000000</td>\n",
       "      <td>249.000000</td>\n",
       "    </tr>\n",
       "    <tr>\n",
       "      <th>max</th>\n",
       "      <td>10990.000000</td>\n",
       "      <td>7999.000000</td>\n",
       "    </tr>\n",
       "  </tbody>\n",
       "</table>\n",
       "</div>"
      ],
      "text/plain": [
       "              Price  DiscountedPrice\n",
       "count   5188.000000      5188.000000\n",
       "mean     344.030360       236.669719\n",
       "std      601.034092       387.198716\n",
       "min        0.000000         0.000000\n",
       "25%       85.000000        64.000000\n",
       "50%      175.000000       125.000000\n",
       "75%      345.000000       249.000000\n",
       "max    10990.000000      7999.000000"
      ]
     },
     "execution_count": 8,
     "metadata": {},
     "output_type": "execute_result"
    }
   ],
   "source": [
    "# brief description on price and discount price of data\n",
    "data.describe()"
   ]
  },
  {
   "cell_type": "markdown",
   "id": "985bdc62",
   "metadata": {},
   "source": [
    "#### Now, clearly we can see that the total values in price and discountedPrice columns is 5188 and,\n",
    "#### mean of Price and DiscountedPrice is 344.03 and 236.669 respectively.\n",
    "#### Min value is 0 for both the columns\n",
    "#### Max value for price is 10990 and for DiscountedPrice is 7999."
   ]
  },
  {
   "cell_type": "markdown",
   "id": "1203c879",
   "metadata": {},
   "source": [
    "### what is total unique values in our quantity column?"
   ]
  },
  {
   "cell_type": "code",
   "execution_count": 9,
   "id": "b963a54f",
   "metadata": {},
   "outputs": [
    {
     "data": {
      "text/plain": [
       "632"
      ]
     },
     "execution_count": 9,
     "metadata": {},
     "output_type": "execute_result"
    }
   ],
   "source": [
    "data[\"Quantity\"].nunique()"
   ]
  },
  {
   "cell_type": "markdown",
   "id": "ee24977f",
   "metadata": {},
   "source": [
    "#### Clearly, we can see that 632 is the total number of unique values."
   ]
  },
  {
   "cell_type": "markdown",
   "id": "f86a5a0e",
   "metadata": {},
   "source": [
    "### Let's see how many null values our data contains?"
   ]
  },
  {
   "cell_type": "code",
   "execution_count": 10,
   "id": "381a750d",
   "metadata": {},
   "outputs": [
    {
     "data": {
      "text/plain": [
       "Name                 1\n",
       "Brand              400\n",
       "Price                1\n",
       "DiscountedPrice      1\n",
       "Category             3\n",
       "SubCategory          3\n",
       "Quantity             1\n",
       "Description          2\n",
       "BreadCrumbs          3\n",
       "dtype: int64"
      ]
     },
     "execution_count": 10,
     "metadata": {},
     "output_type": "execute_result"
    }
   ],
   "source": [
    "# checking null values\n",
    "data.isnull().sum()"
   ]
  },
  {
   "cell_type": "markdown",
   "id": "21868293",
   "metadata": {},
   "source": [
    "### So, we can see that brand column contains the highest number of null values"
   ]
  },
  {
   "cell_type": "markdown",
   "id": "0e729b23",
   "metadata": {},
   "source": [
    "### let's check for number of duplicated values in our data"
   ]
  },
  {
   "cell_type": "code",
   "execution_count": 11,
   "id": "f97375da",
   "metadata": {},
   "outputs": [
    {
     "data": {
      "text/plain": [
       "0"
      ]
     },
     "execution_count": 11,
     "metadata": {},
     "output_type": "execute_result"
    }
   ],
   "source": [
    "# checking duplicated values\n",
    "data.duplicated().sum()"
   ]
  },
  {
   "cell_type": "markdown",
   "id": "ee704010",
   "metadata": {},
   "source": [
    "### There is no duplicated value in our data."
   ]
  },
  {
   "cell_type": "markdown",
   "id": "5bb04340",
   "metadata": {},
   "source": [
    "### Now we need to deal with null values in our data cause it can affect our analysis."
   ]
  },
  {
   "cell_type": "markdown",
   "id": "4678672a",
   "metadata": {},
   "source": [
    "#### Starting with our name column, we will see the most common name appearing in our column and will fill our null value with that most common value, because number of null values is less, so it is safe to fill most common value in place of our null value. "
   ]
  },
  {
   "cell_type": "code",
   "execution_count": 12,
   "id": "4be98e3d",
   "metadata": {},
   "outputs": [
    {
     "data": {
      "text/plain": [
       "0    Elle 18 Nail Pops Nail Colour - Shade 39\n",
       "Name: Name, dtype: object"
      ]
     },
     "execution_count": 12,
     "metadata": {},
     "output_type": "execute_result"
    }
   ],
   "source": [
    "data[\"Name\"].mode()"
   ]
  },
  {
   "cell_type": "code",
   "execution_count": 13,
   "id": "4dcef47a",
   "metadata": {},
   "outputs": [],
   "source": [
    "data[\"Name\"].fillna(\"Elle 18 Nail Pops Nail Colour - Shade 39\",inplace = True)"
   ]
  },
  {
   "cell_type": "markdown",
   "id": "8ce14e76",
   "metadata": {},
   "source": [
    "### Hence, null value in our name column is now filled by \"Elle 18 Nail Pops Nail Colour - Shade 39\""
   ]
  },
  {
   "cell_type": "code",
   "execution_count": 14,
   "id": "c0d5337a",
   "metadata": {},
   "outputs": [
    {
     "data": {
      "text/plain": [
       "0"
      ]
     },
     "execution_count": 14,
     "metadata": {},
     "output_type": "execute_result"
    }
   ],
   "source": [
    "data[\"Name\"].isna().sum()"
   ]
  },
  {
   "cell_type": "markdown",
   "id": "06c047fc",
   "metadata": {},
   "source": [
    "### We have now dealt with all null values in our name column."
   ]
  },
  {
   "cell_type": "markdown",
   "id": "f93ef622",
   "metadata": {},
   "source": [
    "### We will fill null value in our brand column with Local/unknown cause it is difficult to predict the brand and it is also safe to fill like that."
   ]
  },
  {
   "cell_type": "code",
   "execution_count": 14,
   "id": "9970009f",
   "metadata": {},
   "outputs": [],
   "source": [
    "data[\"Brand\"].fillna(\"Local/Unknown\",inplace = True)"
   ]
  },
  {
   "cell_type": "code",
   "execution_count": 15,
   "id": "c0ffa0e4",
   "metadata": {},
   "outputs": [
    {
     "data": {
      "text/plain": [
       "0"
      ]
     },
     "execution_count": 15,
     "metadata": {},
     "output_type": "execute_result"
    }
   ],
   "source": [
    "data[\"Brand\"].isna().sum()"
   ]
  },
  {
   "cell_type": "markdown",
   "id": "e5a4f8a1",
   "metadata": {},
   "source": [
    "### We will be now checking for price column."
   ]
  },
  {
   "cell_type": "code",
   "execution_count": 16,
   "id": "211d5987",
   "metadata": {},
   "outputs": [
    {
     "data": {
      "text/html": [
       "<div>\n",
       "<style scoped>\n",
       "    .dataframe tbody tr th:only-of-type {\n",
       "        vertical-align: middle;\n",
       "    }\n",
       "\n",
       "    .dataframe tbody tr th {\n",
       "        vertical-align: top;\n",
       "    }\n",
       "\n",
       "    .dataframe thead th {\n",
       "        text-align: right;\n",
       "    }\n",
       "</style>\n",
       "<table border=\"1\" class=\"dataframe\">\n",
       "  <thead>\n",
       "    <tr style=\"text-align: right;\">\n",
       "      <th></th>\n",
       "      <th>Name</th>\n",
       "      <th>Brand</th>\n",
       "      <th>Price</th>\n",
       "      <th>DiscountedPrice</th>\n",
       "      <th>Category</th>\n",
       "      <th>SubCategory</th>\n",
       "      <th>Quantity</th>\n",
       "      <th>Description</th>\n",
       "      <th>BreadCrumbs</th>\n",
       "    </tr>\n",
       "  </thead>\n",
       "  <tbody>\n",
       "    <tr>\n",
       "      <th>4323</th>\n",
       "      <td>Elle 18 Nail Pops Nail Colour - Shade 125</td>\n",
       "      <td>Elle 18</td>\n",
       "      <td>NaN</td>\n",
       "      <td>NaN</td>\n",
       "      <td>Personal Care</td>\n",
       "      <td>Personal Care/Nail Care</td>\n",
       "      <td>5 ml</td>\n",
       "      <td>NaN</td>\n",
       "      <td>Personal Care &gt; Personal Care/Nail Care</td>\n",
       "    </tr>\n",
       "  </tbody>\n",
       "</table>\n",
       "</div>"
      ],
      "text/plain": [
       "                                           Name    Brand  Price  \\\n",
       "4323  Elle 18 Nail Pops Nail Colour - Shade 125  Elle 18    NaN   \n",
       "\n",
       "      DiscountedPrice       Category              SubCategory Quantity  \\\n",
       "4323              NaN  Personal Care  Personal Care/Nail Care     5 ml   \n",
       "\n",
       "     Description                              BreadCrumbs  \n",
       "4323         NaN  Personal Care > Personal Care/Nail Care  "
      ]
     },
     "execution_count": 16,
     "metadata": {},
     "output_type": "execute_result"
    }
   ],
   "source": [
    "data[data[\"Price\"].isnull() == True]"
   ]
  },
  {
   "cell_type": "markdown",
   "id": "d2c296be",
   "metadata": {},
   "source": [
    "### Clearly, we can see that there is one null value and it's sub category is personal care/ Nail care where we can take mean of all type of price having subCategory =Personal Care/Nail Care."
   ]
  },
  {
   "cell_type": "code",
   "execution_count": 17,
   "id": "8dbbc61a",
   "metadata": {},
   "outputs": [],
   "source": [
    "data[\"Price\"] = data[\"Price\"].fillna(data[data[\"SubCategory\"]==\"Personal Care/Nail Care\"][\"Price\"].mean())"
   ]
  },
  {
   "cell_type": "code",
   "execution_count": 18,
   "id": "abb52b9e",
   "metadata": {},
   "outputs": [
    {
     "data": {
      "text/plain": [
       "0"
      ]
     },
     "execution_count": 18,
     "metadata": {},
     "output_type": "execute_result"
    }
   ],
   "source": [
    "data[\"Price\"].isna().sum()"
   ]
  },
  {
   "cell_type": "code",
   "execution_count": 19,
   "id": "32b0be93",
   "metadata": {},
   "outputs": [],
   "source": [
    "data[\"DiscountedPrice\"] = data[\"DiscountedPrice\"].fillna(data[data[\"SubCategory\"]==\"Personal Care/Nail Care\"][\"DiscountedPrice\"]).mean()"
   ]
  },
  {
   "cell_type": "code",
   "execution_count": 20,
   "id": "a603e57e",
   "metadata": {},
   "outputs": [
    {
     "data": {
      "text/plain": [
       "0"
      ]
     },
     "execution_count": 20,
     "metadata": {},
     "output_type": "execute_result"
    }
   ],
   "source": [
    "data[\"DiscountedPrice\"].isna().sum()"
   ]
  },
  {
   "cell_type": "code",
   "execution_count": 21,
   "id": "6e55a917",
   "metadata": {},
   "outputs": [
    {
     "data": {
      "text/html": [
       "<div>\n",
       "<style scoped>\n",
       "    .dataframe tbody tr th:only-of-type {\n",
       "        vertical-align: middle;\n",
       "    }\n",
       "\n",
       "    .dataframe tbody tr th {\n",
       "        vertical-align: top;\n",
       "    }\n",
       "\n",
       "    .dataframe thead th {\n",
       "        text-align: right;\n",
       "    }\n",
       "</style>\n",
       "<table border=\"1\" class=\"dataframe\">\n",
       "  <thead>\n",
       "    <tr style=\"text-align: right;\">\n",
       "      <th></th>\n",
       "      <th>Name</th>\n",
       "      <th>Brand</th>\n",
       "      <th>Price</th>\n",
       "      <th>DiscountedPrice</th>\n",
       "      <th>Category</th>\n",
       "      <th>SubCategory</th>\n",
       "      <th>Quantity</th>\n",
       "      <th>Description</th>\n",
       "      <th>BreadCrumbs</th>\n",
       "    </tr>\n",
       "  </thead>\n",
       "  <tbody>\n",
       "    <tr>\n",
       "      <th>3180</th>\n",
       "      <td>Stainless Steel Idli Maker with Lid</td>\n",
       "      <td>Keyur Kitchenware</td>\n",
       "      <td>900.0</td>\n",
       "      <td>236.669719</td>\n",
       "      <td>NaN</td>\n",
       "      <td>NaN</td>\n",
       "      <td>1 Unit</td>\n",
       "      <td>\\n- Container Material : Stainless Steel\\n- Ha...</td>\n",
       "      <td>NaN</td>\n",
       "    </tr>\n",
       "    <tr>\n",
       "      <th>3243</th>\n",
       "      <td>Pigeon ESS Non-Stick Gift Set - Red</td>\n",
       "      <td>Pigeon</td>\n",
       "      <td>2895.0</td>\n",
       "      <td>236.669719</td>\n",
       "      <td>NaN</td>\n",
       "      <td>NaN</td>\n",
       "      <td>7 pcs</td>\n",
       "      <td>\\n-Specifications :\\n- Coating : 5 Layers Non-...</td>\n",
       "      <td>NaN</td>\n",
       "    </tr>\n",
       "    <tr>\n",
       "      <th>3245</th>\n",
       "      <td>Wonderchef Milano Set - Red</td>\n",
       "      <td>Wonderchef</td>\n",
       "      <td>4200.0</td>\n",
       "      <td>236.669719</td>\n",
       "      <td>NaN</td>\n",
       "      <td>NaN</td>\n",
       "      <td>4 Pcs</td>\n",
       "      <td>\\n- Adorn your kitchen with this beautiful Mil...</td>\n",
       "      <td>NaN</td>\n",
       "    </tr>\n",
       "  </tbody>\n",
       "</table>\n",
       "</div>"
      ],
      "text/plain": [
       "                                     Name              Brand   Price  \\\n",
       "3180  Stainless Steel Idli Maker with Lid  Keyur Kitchenware   900.0   \n",
       "3243  Pigeon ESS Non-Stick Gift Set - Red             Pigeon  2895.0   \n",
       "3245          Wonderchef Milano Set - Red         Wonderchef  4200.0   \n",
       "\n",
       "      DiscountedPrice Category SubCategory Quantity  \\\n",
       "3180       236.669719      NaN         NaN   1 Unit   \n",
       "3243       236.669719      NaN         NaN    7 pcs   \n",
       "3245       236.669719      NaN         NaN    4 Pcs   \n",
       "\n",
       "                                            Description BreadCrumbs  \n",
       "3180  \\n- Container Material : Stainless Steel\\n- Ha...         NaN  \n",
       "3243  \\n-Specifications :\\n- Coating : 5 Layers Non-...         NaN  \n",
       "3245  \\n- Adorn your kitchen with this beautiful Mil...         NaN  "
      ]
     },
     "execution_count": 21,
     "metadata": {},
     "output_type": "execute_result"
    }
   ],
   "source": [
    "data[data[\"Category\"].isnull()==True]"
   ]
  },
  {
   "cell_type": "code",
   "execution_count": 22,
   "id": "573f75dc",
   "metadata": {},
   "outputs": [],
   "source": [
    "data[\"Category\"] = data[\"Category\"].fillna(\"Home & Kitchen\")"
   ]
  },
  {
   "cell_type": "code",
   "execution_count": 23,
   "id": "d5a3299c",
   "metadata": {},
   "outputs": [
    {
     "data": {
      "text/plain": [
       "0"
      ]
     },
     "execution_count": 23,
     "metadata": {},
     "output_type": "execute_result"
    }
   ],
   "source": [
    "data[\"Category\"].isna().sum()"
   ]
  },
  {
   "cell_type": "code",
   "execution_count": 24,
   "id": "43af3f01",
   "metadata": {},
   "outputs": [],
   "source": [
    "data[\"SubCategory\"] = data[\"SubCategory\"].fillna(\"Home Appliances\")"
   ]
  },
  {
   "cell_type": "code",
   "execution_count": 25,
   "id": "59134619",
   "metadata": {},
   "outputs": [
    {
     "data": {
      "text/plain": [
       "0"
      ]
     },
     "execution_count": 25,
     "metadata": {},
     "output_type": "execute_result"
    }
   ],
   "source": [
    "data[\"SubCategory\"].isna().sum()"
   ]
  },
  {
   "cell_type": "code",
   "execution_count": 26,
   "id": "8961fd34",
   "metadata": {},
   "outputs": [],
   "source": [
    "data[\"Description\"]= data[\"Description\"].fillna(\"No description\")"
   ]
  },
  {
   "cell_type": "code",
   "execution_count": 27,
   "id": "2aa20b01",
   "metadata": {},
   "outputs": [
    {
     "data": {
      "text/plain": [
       "0"
      ]
     },
     "execution_count": 27,
     "metadata": {},
     "output_type": "execute_result"
    }
   ],
   "source": [
    "data[\"Description\"].isna().sum()"
   ]
  },
  {
   "cell_type": "code",
   "execution_count": 28,
   "id": "ec4b60e9",
   "metadata": {},
   "outputs": [],
   "source": [
    "data[\"BreadCrumbs\"] = data[\"BreadCrumbs\"].fillna(\"Home & Kitchen > Cookware & Serveware\")"
   ]
  },
  {
   "cell_type": "code",
   "execution_count": 29,
   "id": "ea50d7f6",
   "metadata": {},
   "outputs": [
    {
     "data": {
      "text/plain": [
       "0"
      ]
     },
     "execution_count": 29,
     "metadata": {},
     "output_type": "execute_result"
    }
   ],
   "source": [
    "data[\"BreadCrumbs\"].isna().sum()"
   ]
  },
  {
   "cell_type": "code",
   "execution_count": 30,
   "id": "6d8ac085",
   "metadata": {},
   "outputs": [
    {
     "data": {
      "text/html": [
       "<div>\n",
       "<style scoped>\n",
       "    .dataframe tbody tr th:only-of-type {\n",
       "        vertical-align: middle;\n",
       "    }\n",
       "\n",
       "    .dataframe tbody tr th {\n",
       "        vertical-align: top;\n",
       "    }\n",
       "\n",
       "    .dataframe thead th {\n",
       "        text-align: right;\n",
       "    }\n",
       "</style>\n",
       "<table border=\"1\" class=\"dataframe\">\n",
       "  <thead>\n",
       "    <tr style=\"text-align: right;\">\n",
       "      <th></th>\n",
       "      <th>Name</th>\n",
       "      <th>Brand</th>\n",
       "      <th>Price</th>\n",
       "      <th>DiscountedPrice</th>\n",
       "      <th>Category</th>\n",
       "      <th>SubCategory</th>\n",
       "      <th>Quantity</th>\n",
       "      <th>Description</th>\n",
       "      <th>BreadCrumbs</th>\n",
       "    </tr>\n",
       "  </thead>\n",
       "  <tbody>\n",
       "    <tr>\n",
       "      <th>5047</th>\n",
       "      <td>Zeel MT212 Men's Raincoat - Navy Blue : Size XXL</td>\n",
       "      <td>Zeel</td>\n",
       "      <td>1199.0</td>\n",
       "      <td>236.669719</td>\n",
       "      <td>Raincoat</td>\n",
       "      <td>Raincoat</td>\n",
       "      <td>NaN</td>\n",
       "      <td>Specifications- Material : Fabric- Colour : Na...</td>\n",
       "      <td>Raincoat</td>\n",
       "    </tr>\n",
       "  </tbody>\n",
       "</table>\n",
       "</div>"
      ],
      "text/plain": [
       "                                                  Name Brand   Price  \\\n",
       "5047  Zeel MT212 Men's Raincoat - Navy Blue : Size XXL  Zeel  1199.0   \n",
       "\n",
       "      DiscountedPrice  Category SubCategory Quantity  \\\n",
       "5047       236.669719  Raincoat    Raincoat      NaN   \n",
       "\n",
       "                                            Description BreadCrumbs  \n",
       "5047  Specifications- Material : Fabric- Colour : Na...    Raincoat  "
      ]
     },
     "execution_count": 30,
     "metadata": {},
     "output_type": "execute_result"
    }
   ],
   "source": [
    "data[data[\"Quantity\"].isnull() == True]"
   ]
  },
  {
   "cell_type": "code",
   "execution_count": 31,
   "id": "b725bdc7",
   "metadata": {},
   "outputs": [],
   "source": [
    "data[\"Quantity\"] = data[\"Quantity\"].fillna(\"Size XXL\")"
   ]
  },
  {
   "cell_type": "code",
   "execution_count": 32,
   "id": "b5b49472",
   "metadata": {},
   "outputs": [
    {
     "data": {
      "text/plain": [
       "0"
      ]
     },
     "execution_count": 32,
     "metadata": {},
     "output_type": "execute_result"
    }
   ],
   "source": [
    "data[\"Quantity\"].isna().sum()"
   ]
  },
  {
   "cell_type": "code",
   "execution_count": 33,
   "id": "45b671d3",
   "metadata": {},
   "outputs": [
    {
     "data": {
      "text/plain": [
       "Name               0\n",
       "Brand              0\n",
       "Price              0\n",
       "DiscountedPrice    0\n",
       "Category           0\n",
       "SubCategory        0\n",
       "Quantity           0\n",
       "Description        0\n",
       "BreadCrumbs        0\n",
       "dtype: int64"
      ]
     },
     "execution_count": 33,
     "metadata": {},
     "output_type": "execute_result"
    }
   ],
   "source": [
    "data.isna().sum()"
   ]
  },
  {
   "cell_type": "code",
   "execution_count": 34,
   "id": "a5085d5b",
   "metadata": {},
   "outputs": [
    {
     "name": "stdout",
     "output_type": "stream",
     "text": [
      "Distribution in Price\n"
     ]
    },
    {
     "data": {
      "image/png": "[encoded data removed]",
      "text/plain": [
       "<Figure size 1440x432 with 1 Axes>"
      ]
     },
     "metadata": {
      "needs_background": "light"
     },
     "output_type": "display_data"
    },
    {
     "name": "stdout",
     "output_type": "stream",
     "text": [
      "Distribution in DiscountedPrice\n"
     ]
    },
    {
     "data": {
      "image/png": "[encoded data removed]",
      "text/plain": [
       "<Figure size 1440x432 with 1 Axes>"
      ]
     },
     "metadata": {
      "needs_background": "light"
     },
     "output_type": "display_data"
    }
   ],
   "source": [
    "# Checking for outliers\n",
    "cols = [\"Price\",\"DiscountedPrice\"]\n",
    "\n",
    "for i in cols:\n",
    "    print(\"Distribution in\",i)\n",
    "    plt.figure(figsize=(20,6))\n",
    "    sns.boxplot(x=data[i])\n",
    "    plt.show()"
   ]
  },
  {
   "cell_type": "code",
   "execution_count": 35,
   "id": "49341083",
   "metadata": {},
   "outputs": [
    {
     "name": "stdout",
     "output_type": "stream",
     "text": [
      "Distribution of Price\n"
     ]
    },
    {
     "data": {
      "image/png": "[encoded data removed]",
      "text/plain": [
       "<Figure size 1440x432 with 1 Axes>"
      ]
     },
     "metadata": {
      "needs_background": "light"
     },
     "output_type": "display_data"
    },
    {
     "name": "stdout",
     "output_type": "stream",
     "text": [
      "Distribution of DiscountedPrice\n"
     ]
    },
    {
     "data": {
      "image/png": "[encoded data removed]",
      "text/plain": [
       "<Figure size 1440x432 with 1 Axes>"
      ]
     },
     "metadata": {
      "needs_background": "light"
     },
     "output_type": "display_data"
    }
   ],
   "source": [
    "for i in cols:\n",
    "    print('Distribution of',i)\n",
    "    plt.figure(figsize=(20,6))\n",
    "    sns.histplot(x = data[i])\n",
    "    plt.show()"
   ]
  },
  {
   "cell_type": "code",
   "execution_count": 36,
   "id": "32aaaeaa",
   "metadata": {},
   "outputs": [
    {
     "data": {
      "text/plain": [
       "Personal Care                    1234\n",
       "Packaged Food                    1125\n",
       "Home & Kitchen                    883\n",
       "Grocery                           840\n",
       "Dairy & Beverages                 429\n",
       "Specials                          187\n",
       "Clothing & Accessories             97\n",
       "Fruits & Vegetables                78\n",
       "School Supplies                    69\n",
       "Appliances                         53\n",
       "Beauty & Cosmetics                 46\n",
       "Raincoat                           33\n",
       "DMart Grocery                      31\n",
       "Plant Container                    23\n",
       "Tableware                          18\n",
       "Backpacks                          13\n",
       "Zebronics                           5\n",
       "Motorbike Helmets                   4\n",
       "Baby & Kids                         4\n",
       "Geep                                3\n",
       "Kitchen Aprons                      3\n",
       "Butterfly                           2\n",
       "Computer Accessories                2\n",
       "Joyo Plastics                       2\n",
       "Pigeon                              1\n",
       "Syska                               1\n",
       "Water Purifiers & Accessories       1\n",
       "Wonderchef                          1\n",
       "Smartwatches                        1\n",
       "Name: Category, dtype: int64"
      ]
     },
     "execution_count": 36,
     "metadata": {},
     "output_type": "execute_result"
    }
   ],
   "source": [
    "data[\"Category\"].value_counts()"
   ]
  }
 ],
 "metadata": {
  "kernelspec": {
   "display_name": "Python 3",
   "language": "python",
   "name": "python3"
  },
  "language_info": {
   "codemirror_mode": {
    "name": "ipython",
    "version": 3
   },
   "file_extension": ".py",
   "mimetype": "text/x-python",
   "name": "python",
   "nbconvert_exporter": "python",
   "pygments_lexer": "ipython3",
   "version": "3.9.5"
  }
 },
 "nbformat": 4,
 "nbformat_minor": 5
}
